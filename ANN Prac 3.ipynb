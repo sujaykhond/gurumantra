{
 "cells": [
  {
   "cell_type": "code",
   "execution_count": 20,
   "id": "2c0fc564",
   "metadata": {},
   "outputs": [
    {
     "ename": "ModuleNotFoundError",
     "evalue": "No module named 'artFunctions'",
     "output_type": "error",
     "traceback": [
      "\u001b[1;31m---------------------------------------------------------------------------\u001b[0m",
      "\u001b[1;31mModuleNotFoundError\u001b[0m                       Traceback (most recent call last)",
      "Cell \u001b[1;32mIn[20], line 2\u001b[0m\n\u001b[0;32m      1\u001b[0m \u001b[38;5;28;01mimport\u001b[39;00m \u001b[38;5;21;01mnumpy\u001b[39;00m \u001b[38;5;28;01mas\u001b[39;00m \u001b[38;5;21;01mnp\u001b[39;00m\n\u001b[1;32m----> 2\u001b[0m \u001b[38;5;28;01mimport\u001b[39;00m \u001b[38;5;21;01martFunctions\u001b[39;00m \u001b[38;5;28;01mas\u001b[39;00m \u001b[38;5;21;01mart\u001b[39;00m\n",
      "\u001b[1;31mModuleNotFoundError\u001b[0m: No module named 'artFunctions'"
     ]
    }
   ],
   "source": [
    "import numpy as np\n",
    "import artFunctions as art"
   ]
  },
  {
   "cell_type": "code",
   "execution_count": 21,
   "id": "912901de",
   "metadata": {},
   "outputs": [
    {
     "ename": "NameError",
     "evalue": "name 'art' is not defined",
     "output_type": "error",
     "traceback": [
      "\u001b[1;31m---------------------------------------------------------------------------\u001b[0m",
      "\u001b[1;31mNameError\u001b[0m                                 Traceback (most recent call last)",
      "Cell \u001b[1;32mIn[21], line 7\u001b[0m\n\u001b[0;32m      2\u001b[0m \u001b[38;5;66;03m# M1, M2, M3 and P1,P2 and P3 values #\u001b[39;00m\n\u001b[0;32m      3\u001b[0m dataset \u001b[38;5;241m=\u001b[39m np\u001b[38;5;241m.\u001b[39marray([\n\u001b[0;32m      4\u001b[0m [\u001b[38;5;241m1\u001b[39m,\u001b[38;5;241m0\u001b[39m,\u001b[38;5;241m1\u001b[39m],\n\u001b[0;32m      5\u001b[0m [\u001b[38;5;241m1\u001b[39m,\u001b[38;5;241m1\u001b[39m,\u001b[38;5;241m0\u001b[39m],\n\u001b[0;32m      6\u001b[0m [\u001b[38;5;241m0\u001b[39m,\u001b[38;5;241m0\u001b[39m,\u001b[38;5;241m1\u001b[39m] ])\n\u001b[1;32m----> 7\u001b[0m inputN,outputM \u001b[38;5;241m=\u001b[39m \u001b[43mart\u001b[49m\u001b[38;5;241m.\u001b[39mnumberOfRowsAndColumns(dataset)\n",
      "\u001b[1;31mNameError\u001b[0m: name 'art' is not defined"
     ]
    }
   ],
   "source": [
    "similarity_coefficient = 0.8\n",
    "# M1, M2, M3 and P1,P2 and P3 values #\n",
    "dataset = np.array([\n",
    "[1,0,1],\n",
    "[1,1,0],\n",
    "[0,0,1] ])\n",
    "inputN,outputM = art.numberOfRowsAndColumns(dataset)"
   ]
  },
  {
   "cell_type": "code",
   "execution_count": 22,
   "id": "43b64505",
   "metadata": {},
   "outputs": [
    {
     "ename": "NameError",
     "evalue": "name 'art' is not defined",
     "output_type": "error",
     "traceback": [
      "\u001b[1;31m---------------------------------------------------------------------------\u001b[0m",
      "\u001b[1;31mNameError\u001b[0m                                 Traceback (most recent call last)",
      "Cell \u001b[1;32mIn[22], line 1\u001b[0m\n\u001b[1;32m----> 1\u001b[0m backwardWeight \u001b[38;5;241m=\u001b[39m \u001b[43mart\u001b[49m\u001b[38;5;241m.\u001b[39minitialForwardDirectionWeightMatrix(inputN,outputM)\n\u001b[0;32m      2\u001b[0m forwardWeight \u001b[38;5;241m=\u001b[39m backwardWeight \u001b[38;5;241m*\u001b[39m art\u001b[38;5;241m.\u001b[39minitialForwardDirectionWeightFormula(\u001b[38;5;28minput\u001b[39m)\n",
      "\u001b[1;31mNameError\u001b[0m: name 'art' is not defined"
     ]
    }
   ],
   "source": [
    "backwardWeight = art.initialForwardDirectionWeightMatrix(inputN,outputM)\n",
    "forwardWeight = backwardWeight * art.initialForwardDirectionWeightFormula(input)"
   ]
  },
  {
   "cell_type": "code",
   "execution_count": 23,
   "id": "80416131",
   "metadata": {},
   "outputs": [
    {
     "ename": "NameError",
     "evalue": "name 'inputN' is not defined",
     "output_type": "error",
     "traceback": [
      "\u001b[1;31m---------------------------------------------------------------------------\u001b[0m",
      "\u001b[1;31mNameError\u001b[0m                                 Traceback (most recent call last)",
      "Cell \u001b[1;32mIn[23], line 1\u001b[0m\n\u001b[1;32m----> 1\u001b[0m \u001b[38;5;28;01mfor\u001b[39;00m i \u001b[38;5;129;01min\u001b[39;00m \u001b[38;5;28mrange\u001b[39m(\u001b[43minputN\u001b[49m):\n\u001b[0;32m      2\u001b[0m     YList \u001b[38;5;241m=\u001b[39m art\u001b[38;5;241m.\u001b[39mcalculateYList(inputN,dataset[i],forwardWeight)\n\u001b[0;32m      3\u001b[0m     maxYP \u001b[38;5;241m=\u001b[39m art\u001b[38;5;241m.\u001b[39mmaxYListInValue(YList)\n",
      "\u001b[1;31mNameError\u001b[0m: name 'inputN' is not defined"
     ]
    }
   ],
   "source": [
    "for i in range(inputN):\n",
    "    YList = art.calculateYList(inputN,dataset[i],forwardWeight)\n",
    "    maxYP = art.maxYListInValue(YList)\n",
    "    PS1 = art.fitnessTestS1(dataset[i])\n",
    "    newBackwardWeight, newForwardWeight = art.fitnessTestS2(inputN, backwardWeig)\n",
    "    print(\"New Backward Weight : \", newBackwardWeight)\n",
    "    print(\"New Forward Weight : \", newForwardWeight)"
   ]
  }
 ],
 "metadata": {
  "kernelspec": {
   "display_name": "Python 3 (ipykernel)",
   "language": "python",
   "name": "python3"
  },
  "language_info": {
   "codemirror_mode": {
    "name": "ipython",
    "version": 3
   },
   "file_extension": ".py",
   "mimetype": "text/x-python",
   "name": "python",
   "nbconvert_exporter": "python",
   "pygments_lexer": "ipython3",
   "version": "3.10.9"
  }
 },
 "nbformat": 4,
 "nbformat_minor": 5
}
