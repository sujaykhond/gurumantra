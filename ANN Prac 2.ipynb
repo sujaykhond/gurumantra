{
 "cells": [
  {
   "cell_type": "code",
   "execution_count": 1,
   "id": "64337093",
   "metadata": {},
   "outputs": [],
   "source": [
    "import numpy as np"
   ]
  },
  {
   "cell_type": "code",
   "execution_count": 5,
   "id": "8176589a",
   "metadata": {},
   "outputs": [],
   "source": [
    "#np.random.seed(0)\n",
    "def sigmoid (x):\n",
    "    return 1/(1 + np.exp(-x))\n",
    "def sigmoid_derivative(x):\n",
    "    return x * (1 - x)"
   ]
  },
  {
   "cell_type": "code",
   "execution_count": 6,
   "id": "c5acde6b",
   "metadata": {},
   "outputs": [],
   "source": [
    "#Input datasets\n",
    "inputs = np.array([[0,0],[0,1],[1,0],[1,1]])\n",
    "expected_output = np.array([[0],[1],[1],[0]])\n",
    "epochs = 10000\n",
    "lr = 0.1\n",
    "inputLayerNeurons, hiddenLayerNeurons, outputLayerNeurons = 2,2,1"
   ]
  },
  {
   "cell_type": "code",
   "execution_count": 7,
   "id": "88e8b39f",
   "metadata": {},
   "outputs": [],
   "source": [
    "#Random weights and bias initialization\n",
    "hidden_weights = np.random.uniform(size=(inputLayerNeurons,hiddenLayerNeurons))\n",
    "hidden_bias =np.random.uniform(size=(1,hiddenLayerNeurons))\n",
    "output_weights = np.random.uniform(size=(hiddenLayerNeurons,outputLayerNeurons))\n",
    "output_bias = np.random.uniform(size=(1,outputLayerNeurons))\n"
   ]
  },
  {
   "cell_type": "code",
   "execution_count": 8,
   "id": "bff09d78",
   "metadata": {},
   "outputs": [
    {
     "name": "stdout",
     "output_type": "stream",
     "text": [
      "Initial hidden weights: [0.11073004 0.61846866] [0.76451236 0.14187168]\n",
      "Initial hidden biases: [0.89802288 0.80875329]\n",
      "Initial output weights: [0.16338871] [0.94252456]\n",
      "Initial output biases: [0.04979376]\n"
     ]
    }
   ],
   "source": [
    "print(\"Initial hidden weights: \",end='')\n",
    "print(*hidden_weights)\n",
    "print(\"Initial hidden biases: \",end='')\n",
    "print(*hidden_bias)\n",
    "print(\"Initial output weights: \",end='')\n",
    "print(*output_weights)\n",
    "print(\"Initial output biases: \",end='')\n",
    "print(*output_bias)\n"
   ]
  },
  {
   "cell_type": "code",
   "execution_count": 13,
   "id": "b1b3d80f",
   "metadata": {},
   "outputs": [],
   "source": [
    "#Training algorithm\n",
    "for _ in range(epochs):\n",
    "#Forward Propagation\n",
    "    hidden_layer_activation = np.dot(inputs,hidden_weights)\n",
    "    hidden_layer_activation += hidden_bias\n",
    "    hidden_layer_output = sigmoid(hidden_layer_activation)\n",
    "    output_layer_activation = np.dot(hidden_layer_output,output_weights)\n",
    "    output_layer_activation += output_bias\n",
    "    predicted_output = sigmoid(output_layer_activation)"
   ]
  },
  {
   "cell_type": "code",
   "execution_count": 14,
   "id": "3deb9e57",
   "metadata": {},
   "outputs": [],
   "source": [
    "#Backpropagation\n",
    "error = expected_output - predicted_output\n",
    "d_predicted_output = error * sigmoid_derivative(predicted_output)\n",
    "error_hidden_layer = d_predicted_output.dot(output_weights.T)\n",
    "d_hidden_layer = error_hidden_layer * sigmoid_derivative(hidden_layer_output)"
   ]
  },
  {
   "cell_type": "code",
   "execution_count": 15,
   "id": "90b4b59c",
   "metadata": {},
   "outputs": [],
   "source": [
    "#Updating Weights and Biases\n",
    "output_weights += hidden_layer_output.T.dot(d_predicted_output) * lr\n",
    "output_bias += np.sum(d_predicted_output,axis=0,keepdims=True) * lr\n",
    "hidden_weights += inputs.T.dot(d_hidden_layer) * lr\n",
    "hidden_bias += np.sum(d_hidden_layer,axis=0,keepdims=True) * lr"
   ]
  },
  {
   "cell_type": "code",
   "execution_count": 16,
   "id": "d8bbe09d",
   "metadata": {},
   "outputs": [
    {
     "name": "stdout",
     "output_type": "stream",
     "text": [
      "Final hidden weights: [0.11062074 0.6173701 ] [0.76435432 0.14109658]\n",
      "Final hidden bias: [0.89755326 0.8058612 ]\n",
      "Final output weights: [0.14994921] [0.92944144]\n",
      "Final output bias: [0.03250734]\n",
      "\n",
      "Output from neural network after 10,000 epochs: [0.69380488] [0.70410481] [0.71700165] [0.72503046]\n"
     ]
    }
   ],
   "source": [
    "print(\"Final hidden weights: \",end='')\n",
    "print(*hidden_weights)\n",
    "print(\"Final hidden bias: \",end='')\n",
    "print(*hidden_bias)\n",
    "print(\"Final output weights: \",end='')\n",
    "print(*output_weights)\n",
    "print(\"Final output bias: \",end='')\n",
    "print(*output_bias)\n",
    "print(\"\\nOutput from neural network after 10,000 epochs: \",end='')\n",
    "print(*predicted_output)\n"
   ]
  },
  {
   "cell_type": "code",
   "execution_count": null,
   "id": "7bdba0e4",
   "metadata": {},
   "outputs": [],
   "source": []
  }
 ],
 "metadata": {
  "kernelspec": {
   "display_name": "Python 3 (ipykernel)",
   "language": "python",
   "name": "python3"
  },
  "language_info": {
   "codemirror_mode": {
    "name": "ipython",
    "version": 3
   },
   "file_extension": ".py",
   "mimetype": "text/x-python",
   "name": "python",
   "nbconvert_exporter": "python",
   "pygments_lexer": "ipython3",
   "version": "3.11.5"
  }
 },
 "nbformat": 4,
 "nbformat_minor": 5
}
