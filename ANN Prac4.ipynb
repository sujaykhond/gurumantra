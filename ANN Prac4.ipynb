{
 "cells": [
  {
   "cell_type": "code",
   "execution_count": 1,
   "id": "1d007f81",
   "metadata": {},
   "outputs": [],
   "source": [
    "from random import seed\n",
    "from random import randrange\n",
    "from csv import reader"
   ]
  },
  {
   "cell_type": "code",
   "execution_count": 2,
   "id": "17cbc61b",
   "metadata": {},
   "outputs": [],
   "source": [
    "def load_csv(filename):\n",
    "    dataset = list()\n",
    "    with open(filename, 'r') as file:\n",
    "        csv_reader = reader(file)\n",
    "        for row in csv_reader:\n",
    "            if not row:\n",
    "                continue\n",
    "            dataset.append(row)\n",
    "        return dataset"
   ]
  },
  {
   "cell_type": "code",
   "execution_count": 3,
   "id": "07227692",
   "metadata": {},
   "outputs": [],
   "source": [
    "def str_column_to_float(dataset, column):\n",
    "    for row in dataset:\n",
    "             row[column] = float(row[column].strip())"
   ]
  },
  {
   "cell_type": "code",
   "execution_count": 4,
   "id": "5d2eef88",
   "metadata": {},
   "outputs": [],
   "source": [
    "def str_column_to_int(dataset, column):\n",
    "    class_values = [row[column] for row in dataset]\n",
    "    unique = set(class_values)\n",
    "    lookup = dict()\n",
    "    for i, value in enumerate(unique):\n",
    "        lookup[value] = i\n",
    "    for row in dataset:\n",
    "            row[column] = lookup[row[column]]\n",
    "    return lookup"
   ]
  },
  {
   "cell_type": "code",
   "execution_count": 6,
   "id": "223a6370",
   "metadata": {},
   "outputs": [],
   "source": [
    "def cross_validation_split(dataset, n_folds):\n",
    "    dataset_split = list()\n",
    "    dataset_copy = list(dataset)\n",
    "    fold_size = int(len(dataset) / n_folds)\n",
    "    for i in range(n_folds):\n",
    "        fold = list()\n",
    "        while len(fold) < fold_size:\n",
    "            index = randrange(len(dataset_copy))\n",
    "            fold.append(dataset_copy.pop(index))\n",
    "        dataset_split.append(fold)\n",
    "    return dataset_split"
   ]
  },
  {
   "cell_type": "code",
   "execution_count": 8,
   "id": "81feb531",
   "metadata": {},
   "outputs": [],
   "source": [
    "def accuracy_metric(actual, predicted):\n",
    "    correct = 0\n",
    "    for i in range(len(actual)):\n",
    "        if actual[i] == predicted[i]:\n",
    "            correct += 1\n",
    "        return correct / float(len(actual)) * 100.0"
   ]
  },
  {
   "cell_type": "code",
   "execution_count": 9,
   "id": "0fad63db",
   "metadata": {},
   "outputs": [],
   "source": [
    "def evaluate_algorithm(dataset, algorithm, n_folds, *args):\n",
    "    folds = cross_validation_split(dataset, n_folds)\n",
    "    scores = list()\n",
    "    for fold in folds:\n",
    "        train_set = list(folds)\n",
    "        train_set.remove(fold)\n",
    "        train_set = sum(train_set, [])\n",
    "        test_set = list()\n",
    "        for row in fold:\n",
    "            row_copy = list(row)\n",
    "            test_set.append(row_copy)\n",
    "            row_copy[-1] = None\n",
    "            predicted = algorithm(train_set, test_set, *args)\n",
    "            actual = [row[-1] for row in fold]\n",
    "            accuracy = accuracy_metric(actual, predicted)\n",
    "            scores.append(accuracy)\n",
    "        return scores\n"
   ]
  },
  {
   "cell_type": "code",
   "execution_count": 11,
   "id": "553122b0",
   "metadata": {},
   "outputs": [],
   "source": [
    "def predict(row, weights):\n",
    "    activation = weights[0]\n",
    "    for i in range(len(row)-1):\n",
    "        activation += weights[i + 1] * row[i]\n",
    "    return 1.0 if activation >= 0.0 else 0.0"
   ]
  },
  {
   "cell_type": "code",
   "execution_count": 21,
   "id": "22e997f1",
   "metadata": {},
   "outputs": [],
   "source": [
    "def train_weights(train, I_rate, n_epoch):\n",
    "          weights = [0.0 for i in range(len(train[0]))]\n",
    "          for epoch in range(n_epoch):\n",
    "            for row in train:\n",
    "                prediction = predict(row, weights)\n",
    "                error = row[-1] - prediction\n",
    "                weights[0] = weights[0] + l_rate * error\n",
    "                for i in range(len(row)-1):\n",
    "                    weights[i + 1] = weights[i + 1] + l_rate *error * row[i]\n",
    "            return weights"
   ]
  },
  {
   "cell_type": "code",
   "execution_count": 16,
   "id": "2c80c018",
   "metadata": {},
   "outputs": [],
   "source": [
    "def perceptron(train, test, l_rate, n_epoch):\n",
    "    predictions = list()\n",
    "    weights = train_weights(train, l_rate, n_epoch)\n",
    "    for row in test:\n",
    "        prediction = predict(row, weights)\n",
    "        predictions.append(prediction)\n",
    "    return(predictions)"
   ]
  },
  {
   "cell_type": "code",
   "execution_count": 17,
   "id": "a3231602",
   "metadata": {},
   "outputs": [],
   "source": [
    "seed(1)"
   ]
  },
  {
   "cell_type": "code",
   "execution_count": 18,
   "id": "27492284",
   "metadata": {},
   "outputs": [],
   "source": [
    "filename = 'sonar_dataset.csv'\n",
    "dataset = load_csv(filename)\n",
    "for i in range(len(dataset[0])-1):\n",
    "    str_column_to_float(dataset,i)"
   ]
  },
  {
   "cell_type": "code",
   "execution_count": 19,
   "id": "14b581c0",
   "metadata": {},
   "outputs": [
    {
     "data": {
      "text/plain": [
       "{'R': 0, 'M': 1}"
      ]
     },
     "execution_count": 19,
     "metadata": {},
     "output_type": "execute_result"
    }
   ],
   "source": [
    "str_column_to_int(dataset, len(dataset[0])-1)"
   ]
  },
  {
   "cell_type": "code",
   "execution_count": 22,
   "id": "dd575855",
   "metadata": {},
   "outputs": [
    {
     "name": "stdout",
     "output_type": "stream",
     "text": [
      "Scores: [1.4492753623188406, 1.4492753623188406, 1.4492753623188406, 1.4492753623188406, 1.4492753623188406, 1.4492753623188406, 1.4492753623188406, 1.4492753623188406, 1.4492753623188406, 1.4492753623188406, 1.4492753623188406, 1.4492753623188406, 1.4492753623188406, 1.4492753623188406, 1.4492753623188406, 1.4492753623188406, 1.4492753623188406, 1.4492753623188406, 1.4492753623188406, 1.4492753623188406, 1.4492753623188406, 1.4492753623188406, 1.4492753623188406, 1.4492753623188406, 1.4492753623188406, 1.4492753623188406, 1.4492753623188406, 1.4492753623188406, 1.4492753623188406, 1.4492753623188406, 1.4492753623188406, 1.4492753623188406, 1.4492753623188406, 1.4492753623188406, 1.4492753623188406, 1.4492753623188406, 1.4492753623188406, 1.4492753623188406, 1.4492753623188406, 1.4492753623188406, 1.4492753623188406, 1.4492753623188406, 1.4492753623188406, 1.4492753623188406, 1.4492753623188406, 1.4492753623188406, 1.4492753623188406, 1.4492753623188406, 1.4492753623188406, 1.4492753623188406, 1.4492753623188406, 1.4492753623188406, 1.4492753623188406, 1.4492753623188406, 1.4492753623188406, 1.4492753623188406, 1.4492753623188406, 1.4492753623188406, 1.4492753623188406, 1.4492753623188406, 1.4492753623188406, 1.4492753623188406, 1.4492753623188406, 1.4492753623188406, 1.4492753623188406, 1.4492753623188406, 1.4492753623188406, 1.4492753623188406, 1.4492753623188406]\n",
      "Mean Accuracy: 1.449%\n"
     ]
    }
   ],
   "source": [
    "n_folds = 3\n",
    "l_rate = 0.01\n",
    "n_epoch = 500\n",
    "scores = evaluate_algorithm(dataset, perceptron, n_folds, l_rate, n_epoch)\n",
    "print('Scores: %s' % scores)\n",
    "print('Mean Accuracy: %.3f%%' % (sum(scores)/float(len(scores))))"
   ]
  },
  {
   "cell_type": "code",
   "execution_count": null,
   "id": "a4582de7",
   "metadata": {},
   "outputs": [],
   "source": []
  }
 ],
 "metadata": {
  "kernelspec": {
   "display_name": "Python 3 (ipykernel)",
   "language": "python",
   "name": "python3"
  },
  "language_info": {
   "codemirror_mode": {
    "name": "ipython",
    "version": 3
   },
   "file_extension": ".py",
   "mimetype": "text/x-python",
   "name": "python",
   "nbconvert_exporter": "python",
   "pygments_lexer": "ipython3",
   "version": "3.10.9"
  }
 },
 "nbformat": 4,
 "nbformat_minor": 5
}
